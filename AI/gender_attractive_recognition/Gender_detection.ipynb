{
 "cells": [
  {
   "cell_type": "code",
   "execution_count": 1,
   "metadata": {
    "_cell_guid": "b1076dfc-b9ad-4769-8c92-a6c4dae69d19",
    "_uuid": "8f2839f25d086af736a60e9eeb907d3b93b6e0e5",
    "id": "Fat2jSKr1Eof"
   },
   "outputs": [],
   "source": [
    "import numpy as np\n",
    "import pandas as pd\n",
    "\n",
    "import pathlib\n",
    "import os\n",
    "import sys\n",
    "import shutil\n",
    "from tqdm.notebook import tqdm\n",
    "\n",
    "import seaborn as sns\n",
    "import matplotlib.pyplot as plt\n",
    "\n",
    "from keras.preprocessing.image import ImageDataGenerator, array_to_img, img_to_array, load_img\n",
    "from PIL import Image\n",
    "\n",
    "import tensorflow\n",
    "import tensorflow.keras as k\n",
    "\n",
    "from sklearn.preprocessing import StandardScaler"
   ]
  },
  {
   "cell_type": "code",
   "execution_count": 2,
   "metadata": {
    "colab": {
     "base_uri": "https://localhost:8080/"
    },
    "id": "dgnD2mQX1XLJ",
    "outputId": "370bf1c7-de08-424f-cf83-ab78b0ed1134"
   },
   "outputs": [
    {
     "name": "stdout",
     "output_type": "stream",
     "text": [
      "Mounted at /gdrive\n"
     ]
    }
   ],
   "source": [
    "from google.colab import drive\n",
    "import zipfile\n",
    "\n",
    "drive.mount('/gdrive', force_remount=True)"
   ]
  },
  {
   "cell_type": "code",
   "execution_count": 3,
   "metadata": {
    "id": "QGEk668z26P4"
   },
   "outputs": [],
   "source": [
    "if not os.path.exists(\"datasets\"):\n",
    "  os.mkdir(\"datasets\")\n",
    "\n",
    "with zipfile.ZipFile(\"/gdrive/MyDrive/archive.zip\", 'r') as zip_ref:\n",
    "    zip_ref.extractall(\"datasets/gender_original\")"
   ]
  },
  {
   "cell_type": "code",
   "execution_count": 4,
   "metadata": {
    "id": "BEktT_DH1Eop"
   },
   "outputs": [],
   "source": [
    "main_path = \"datasets/gender_original/\"\n",
    "img_path = main_path + \"img_align_celeba/img_align_celeba/\""
   ]
  },
  {
   "cell_type": "markdown",
   "metadata": {
    "id": "RxSG_0YE1Eoq"
   },
   "source": [
    "## I- Preprocessing\n",
    "- cut faces\n",
    "- resize images to 200x200 px"
   ]
  },
  {
   "cell_type": "markdown",
   "metadata": {
    "id": "pJ4EaPN98XuZ"
   },
   "source": [
    "### 1) Cut faces"
   ]
  },
  {
   "cell_type": "code",
   "execution_count": 5,
   "metadata": {
    "colab": {
     "base_uri": "https://localhost:8080/",
     "height": 204
    },
    "id": "upi2FzLh1Eoq",
    "outputId": "9ccf4d68-eb4a-44ab-e555-39aed5e12f0a"
   },
   "outputs": [
    {
     "data": {
      "text/html": [
       "<div>\n",
       "<style scoped>\n",
       "    .dataframe tbody tr th:only-of-type {\n",
       "        vertical-align: middle;\n",
       "    }\n",
       "\n",
       "    .dataframe tbody tr th {\n",
       "        vertical-align: top;\n",
       "    }\n",
       "\n",
       "    .dataframe thead th {\n",
       "        text-align: right;\n",
       "    }\n",
       "</style>\n",
       "<table border=\"1\" class=\"dataframe\">\n",
       "  <thead>\n",
       "    <tr style=\"text-align: right;\">\n",
       "      <th></th>\n",
       "      <th>image_id</th>\n",
       "      <th>x_1</th>\n",
       "      <th>y_1</th>\n",
       "      <th>width</th>\n",
       "      <th>height</th>\n",
       "    </tr>\n",
       "  </thead>\n",
       "  <tbody>\n",
       "    <tr>\n",
       "      <th>0</th>\n",
       "      <td>000001.jpg</td>\n",
       "      <td>95</td>\n",
       "      <td>71</td>\n",
       "      <td>226</td>\n",
       "      <td>313</td>\n",
       "    </tr>\n",
       "    <tr>\n",
       "      <th>1</th>\n",
       "      <td>000002.jpg</td>\n",
       "      <td>72</td>\n",
       "      <td>94</td>\n",
       "      <td>221</td>\n",
       "      <td>306</td>\n",
       "    </tr>\n",
       "    <tr>\n",
       "      <th>2</th>\n",
       "      <td>000003.jpg</td>\n",
       "      <td>216</td>\n",
       "      <td>59</td>\n",
       "      <td>91</td>\n",
       "      <td>126</td>\n",
       "    </tr>\n",
       "    <tr>\n",
       "      <th>3</th>\n",
       "      <td>000004.jpg</td>\n",
       "      <td>622</td>\n",
       "      <td>257</td>\n",
       "      <td>564</td>\n",
       "      <td>781</td>\n",
       "    </tr>\n",
       "    <tr>\n",
       "      <th>4</th>\n",
       "      <td>000005.jpg</td>\n",
       "      <td>236</td>\n",
       "      <td>109</td>\n",
       "      <td>120</td>\n",
       "      <td>166</td>\n",
       "    </tr>\n",
       "  </tbody>\n",
       "</table>\n",
       "</div>"
      ],
      "text/plain": [
       "     image_id  x_1  y_1  width  height\n",
       "0  000001.jpg   95   71    226     313\n",
       "1  000002.jpg   72   94    221     306\n",
       "2  000003.jpg  216   59     91     126\n",
       "3  000004.jpg  622  257    564     781\n",
       "4  000005.jpg  236  109    120     166"
      ]
     },
     "execution_count": 5,
     "metadata": {
      "tags": []
     },
     "output_type": "execute_result"
    }
   ],
   "source": [
    "image_cut = pd.read_csv(main_path + \"list_bbox_celeba.csv\")\n",
    "image_cut.head()"
   ]
  },
  {
   "cell_type": "markdown",
   "metadata": {
    "id": "6RaLrsrY1Eor"
   },
   "source": [
    "On constate que le traitement des images a déjà été fait, toutes les images ont été découpé"
   ]
  },
  {
   "cell_type": "markdown",
   "metadata": {
    "id": "s2gHJdva1Eor"
   },
   "source": [
    "### 2) Resize images to 200x200 px"
   ]
  },
  {
   "cell_type": "code",
   "execution_count": 6,
   "metadata": {
    "colab": {
     "base_uri": "https://localhost:8080/"
    },
    "id": "lydofOS_1Eos",
    "outputId": "9fafb1db-947c-4891-a13e-e53773f28a76"
   },
   "outputs": [
    {
     "data": {
      "text/plain": [
       "(178, 218)"
      ]
     },
     "execution_count": 6,
     "metadata": {
      "tags": []
     },
     "output_type": "execute_result"
    }
   ],
   "source": [
    "im = Image.open(img_path + '000001.jpg')\n",
    "im.size"
   ]
  },
  {
   "cell_type": "code",
   "execution_count": 7,
   "metadata": {
    "colab": {
     "base_uri": "https://localhost:8080/",
     "height": 35
    },
    "id": "xitO7GzV1Eos",
    "outputId": "a1c95c17-cf5c-4576-8291-e9258d1fda32"
   },
   "outputs": [
    {
     "data": {
      "application/vnd.google.colaboratory.intrinsic+json": {
       "type": "string"
      },
      "text/plain": [
       "'for i in list(pathlib.Path(img_path).glob(\"*\")):\\n    if Image.open(i).size != (178,218):\\n        print(\"different\")'"
      ]
     },
     "execution_count": 7,
     "metadata": {
      "tags": []
     },
     "output_type": "execute_result"
    }
   ],
   "source": [
    "'''for i in list(pathlib.Path(img_path).glob(\"*\")):\n",
    "    if Image.open(i).size != (178,218):\n",
    "        print(\"different\")'''"
   ]
  },
  {
   "cell_type": "markdown",
   "metadata": {
    "id": "RX1Q_vkk1Eos"
   },
   "source": [
    "On constate que le traitement des images a déjà été fait, toutes les images sont de taille **(178,218)**"
   ]
  },
  {
   "cell_type": "code",
   "execution_count": 8,
   "metadata": {
    "id": "QVURhLl61Eot"
   },
   "outputs": [],
   "source": [
    "img_width = 178\n",
    "img_height = 218"
   ]
  },
  {
   "cell_type": "markdown",
   "metadata": {
    "id": "PBeU2wNQ1Eou"
   },
   "source": [
    "## II- Train-valid-test and gender split"
   ]
  },
  {
   "cell_type": "code",
   "execution_count": 9,
   "metadata": {
    "colab": {
     "base_uri": "https://localhost:8080/",
     "height": 204
    },
    "id": "LlwwmElw1Eou",
    "outputId": "a2318cfc-5c82-480e-f2f0-1b3382634519"
   },
   "outputs": [
    {
     "data": {
      "text/html": [
       "<div>\n",
       "<style scoped>\n",
       "    .dataframe tbody tr th:only-of-type {\n",
       "        vertical-align: middle;\n",
       "    }\n",
       "\n",
       "    .dataframe tbody tr th {\n",
       "        vertical-align: top;\n",
       "    }\n",
       "\n",
       "    .dataframe thead th {\n",
       "        text-align: right;\n",
       "    }\n",
       "</style>\n",
       "<table border=\"1\" class=\"dataframe\">\n",
       "  <thead>\n",
       "    <tr style=\"text-align: right;\">\n",
       "      <th></th>\n",
       "      <th>image_id</th>\n",
       "      <th>Male</th>\n",
       "    </tr>\n",
       "  </thead>\n",
       "  <tbody>\n",
       "    <tr>\n",
       "      <th>0</th>\n",
       "      <td>000001.jpg</td>\n",
       "      <td>0</td>\n",
       "    </tr>\n",
       "    <tr>\n",
       "      <th>1</th>\n",
       "      <td>000002.jpg</td>\n",
       "      <td>0</td>\n",
       "    </tr>\n",
       "    <tr>\n",
       "      <th>2</th>\n",
       "      <td>000003.jpg</td>\n",
       "      <td>1</td>\n",
       "    </tr>\n",
       "    <tr>\n",
       "      <th>3</th>\n",
       "      <td>000004.jpg</td>\n",
       "      <td>0</td>\n",
       "    </tr>\n",
       "    <tr>\n",
       "      <th>4</th>\n",
       "      <td>000005.jpg</td>\n",
       "      <td>0</td>\n",
       "    </tr>\n",
       "  </tbody>\n",
       "</table>\n",
       "</div>"
      ],
      "text/plain": [
       "     image_id  Male\n",
       "0  000001.jpg     0\n",
       "1  000002.jpg     0\n",
       "2  000003.jpg     1\n",
       "3  000004.jpg     0\n",
       "4  000005.jpg     0"
      ]
     },
     "execution_count": 9,
     "metadata": {
      "tags": []
     },
     "output_type": "execute_result"
    }
   ],
   "source": [
    "gender_df = pd.read_csv(main_path + \"list_attr_celeba.csv\")\n",
    "col = ['image_id','Male']\n",
    "gender_df = gender_df[col]\n",
    "gender_df.replace(to_replace = -1, value = 0, inplace = True)\n",
    "gender_df.head()"
   ]
  },
  {
   "cell_type": "code",
   "execution_count": 10,
   "metadata": {
    "colab": {
     "base_uri": "https://localhost:8080/"
    },
    "id": "V6bwRufd1Eou",
    "outputId": "086b04c5-69e4-4e9d-826a-e310d3a9732b"
   },
   "outputs": [
    {
     "name": "stdout",
     "output_type": "stream",
     "text": [
      "Femme:  118165  =>  58.32 % \n",
      "Homme:  84434  =>  41.68 %\n"
     ]
    }
   ],
   "source": [
    "nb = gender_df.Male.value_counts()\n",
    "print(\"Femme: \", nb[0], \" => \",round((nb[0]/gender_df.Male.count())*100,2), \"%\",\n",
    "      \"\\nHomme: \", nb[1], \" => \",round((nb[1]/gender_df.Male.count())*100,2), \"%\")"
   ]
  },
  {
   "cell_type": "code",
   "execution_count": 11,
   "metadata": {
    "colab": {
     "base_uri": "https://localhost:8080/",
     "height": 295
    },
    "id": "7OL0GLSS1Eov",
    "outputId": "0bfbd9ff-e92c-4886-f837-e9bc4eac3a41"
   },
   "outputs": [
    {
     "data": {
      "image/png": "[encoded data removed]",
      "text/plain": [
       "<Figure size 432x288 with 1 Axes>"
      ]
     },
     "metadata": {
      "needs_background": "light",
      "tags": []
     },
     "output_type": "display_data"
    }
   ],
   "source": [
    "plt.title('Gender')\n",
    "sns.countplot(y='Male', data=gender_df, color=\"c\")\n",
    "plt.show()"
   ]
  },
  {
   "cell_type": "code",
   "execution_count": 12,
   "metadata": {
    "colab": {
     "base_uri": "https://localhost:8080/",
     "height": 204
    },
    "id": "mL0asB-e1Eov",
    "outputId": "5939433e-00d5-4035-ed02-3e3b934799da"
   },
   "outputs": [
    {
     "data": {
      "text/html": [
       "<div>\n",
       "<style scoped>\n",
       "    .dataframe tbody tr th:only-of-type {\n",
       "        vertical-align: middle;\n",
       "    }\n",
       "\n",
       "    .dataframe tbody tr th {\n",
       "        vertical-align: top;\n",
       "    }\n",
       "\n",
       "    .dataframe thead th {\n",
       "        text-align: right;\n",
       "    }\n",
       "</style>\n",
       "<table border=\"1\" class=\"dataframe\">\n",
       "  <thead>\n",
       "    <tr style=\"text-align: right;\">\n",
       "      <th></th>\n",
       "      <th>image_id</th>\n",
       "      <th>partition</th>\n",
       "    </tr>\n",
       "  </thead>\n",
       "  <tbody>\n",
       "    <tr>\n",
       "      <th>0</th>\n",
       "      <td>000001.jpg</td>\n",
       "      <td>0</td>\n",
       "    </tr>\n",
       "    <tr>\n",
       "      <th>1</th>\n",
       "      <td>000002.jpg</td>\n",
       "      <td>0</td>\n",
       "    </tr>\n",
       "    <tr>\n",
       "      <th>2</th>\n",
       "      <td>000003.jpg</td>\n",
       "      <td>0</td>\n",
       "    </tr>\n",
       "    <tr>\n",
       "      <th>3</th>\n",
       "      <td>000004.jpg</td>\n",
       "      <td>0</td>\n",
       "    </tr>\n",
       "    <tr>\n",
       "      <th>4</th>\n",
       "      <td>000005.jpg</td>\n",
       "      <td>0</td>\n",
       "    </tr>\n",
       "  </tbody>\n",
       "</table>\n",
       "</div>"
      ],
      "text/plain": [
       "     image_id  partition\n",
       "0  000001.jpg          0\n",
       "1  000002.jpg          0\n",
       "2  000003.jpg          0\n",
       "3  000004.jpg          0\n",
       "4  000005.jpg          0"
      ]
     },
     "execution_count": 12,
     "metadata": {
      "tags": []
     },
     "output_type": "execute_result"
    }
   ],
   "source": [
    "train_val_test_df = pd.read_csv(main_path + \"list_eval_partition.csv\")\n",
    "train_val_test_df.head(5)"
   ]
  },
  {
   "cell_type": "code",
   "execution_count": 13,
   "metadata": {
    "colab": {
     "base_uri": "https://localhost:8080/"
    },
    "id": "QPrDazco1Eov",
    "outputId": "43c5383d-c379-4549-f4be-ff4d8f91797a"
   },
   "outputs": [
    {
     "name": "stdout",
     "output_type": "stream",
     "text": [
      "Train:  162770  =>  80.34 % \n",
      "Valid:  19867  =>  9.81 % \n",
      "Test:  19962  =>  9.85 %\n"
     ]
    }
   ],
   "source": [
    "nb = train_val_test_df.partition.value_counts()\n",
    "print(\"Train: \", nb[0], \" => \",round((nb[0]/train_val_test_df.partition.count())*100,2), \"%\",\n",
    "      \"\\nValid: \", nb[1], \" => \",round((nb[1]/train_val_test_df.partition.count())*100,2), \"%\",\n",
    "      \"\\nTest: \", nb[2], \" => \",round((nb[2]/train_val_test_df.partition.count())*100,2), \"%\")"
   ]
  },
  {
   "cell_type": "code",
   "execution_count": 14,
   "metadata": {
    "colab": {
     "base_uri": "https://localhost:8080/",
     "height": 295
    },
    "id": "dd2KbISm1Eow",
    "outputId": "7f987004-44e6-4599-d476-410f8a3133de"
   },
   "outputs": [
    {
     "data": {
      "image/png": "[encoded data removed]",
      "text/plain": [
       "<Figure size 432x288 with 1 Axes>"
      ]
     },
     "metadata": {
      "needs_background": "light",
      "tags": []
     },
     "output_type": "display_data"
    }
   ],
   "source": [
    "plt.title('Train Test Valid')\n",
    "sns.countplot(y='partition', data=train_val_test_df, color=\"c\")\n",
    "plt.show()"
   ]
  },
  {
   "cell_type": "code",
   "execution_count": 15,
   "metadata": {
    "colab": {
     "base_uri": "https://localhost:8080/",
     "height": 204
    },
    "id": "8h_IyEXS1Eow",
    "outputId": "94b729d4-8e3d-4d71-ebc9-f39c00a5ca38"
   },
   "outputs": [
    {
     "data": {
      "text/html": [
       "<div>\n",
       "<style scoped>\n",
       "    .dataframe tbody tr th:only-of-type {\n",
       "        vertical-align: middle;\n",
       "    }\n",
       "\n",
       "    .dataframe tbody tr th {\n",
       "        vertical-align: top;\n",
       "    }\n",
       "\n",
       "    .dataframe thead th {\n",
       "        text-align: right;\n",
       "    }\n",
       "</style>\n",
       "<table border=\"1\" class=\"dataframe\">\n",
       "  <thead>\n",
       "    <tr style=\"text-align: right;\">\n",
       "      <th></th>\n",
       "      <th>image_id</th>\n",
       "      <th>Male</th>\n",
       "      <th>partition</th>\n",
       "    </tr>\n",
       "  </thead>\n",
       "  <tbody>\n",
       "    <tr>\n",
       "      <th>0</th>\n",
       "      <td>000001.jpg</td>\n",
       "      <td>0</td>\n",
       "      <td>0</td>\n",
       "    </tr>\n",
       "    <tr>\n",
       "      <th>1</th>\n",
       "      <td>000002.jpg</td>\n",
       "      <td>0</td>\n",
       "      <td>0</td>\n",
       "    </tr>\n",
       "    <tr>\n",
       "      <th>2</th>\n",
       "      <td>000003.jpg</td>\n",
       "      <td>1</td>\n",
       "      <td>0</td>\n",
       "    </tr>\n",
       "    <tr>\n",
       "      <th>3</th>\n",
       "      <td>000004.jpg</td>\n",
       "      <td>0</td>\n",
       "      <td>0</td>\n",
       "    </tr>\n",
       "    <tr>\n",
       "      <th>4</th>\n",
       "      <td>000005.jpg</td>\n",
       "      <td>0</td>\n",
       "      <td>0</td>\n",
       "    </tr>\n",
       "  </tbody>\n",
       "</table>\n",
       "</div>"
      ],
      "text/plain": [
       "     image_id  Male  partition\n",
       "0  000001.jpg     0          0\n",
       "1  000002.jpg     0          0\n",
       "2  000003.jpg     1          0\n",
       "3  000004.jpg     0          0\n",
       "4  000005.jpg     0          0"
      ]
     },
     "execution_count": 15,
     "metadata": {
      "tags": []
     },
     "output_type": "execute_result"
    }
   ],
   "source": [
    "df = pd.concat([gender_df, train_val_test_df.drop(\"image_id\", axis=1)],axis=1)\n",
    "df.head()"
   ]
  },
  {
   "cell_type": "code",
   "execution_count": 16,
   "metadata": {
    "colab": {
     "base_uri": "https://localhost:8080/",
     "height": 69
    },
    "id": "siBd5TzC1Eow",
    "outputId": "de1b4b92-a897-4bc2-9532-5a38d594dd1e"
   },
   "outputs": [
    {
     "data": {
      "application/vnd.google.colaboratory.intrinsic+json": {
       "type": "string"
      },
      "text/plain": [
       "'def load_reshape_img(path):\\n    img = load_img(path)\\n    x = img_to_array(img)/255.\\n    x = x.reshape((1,) + x.shape)\\n\\ndef split_dataset(df,partition):\\n    x = []\\n    y = []\\n    for element in tqdm(df.values): \\n        if element[2] == partition:\\n            img = load_reshape_img(img_path + element[0])\\n            x.append(img)\\n            y.append(element[1])\\n    return x,y'"
      ]
     },
     "execution_count": 16,
     "metadata": {
      "tags": []
     },
     "output_type": "execute_result"
    }
   ],
   "source": [
    "'''def load_reshape_img(path):\n",
    "    img = load_img(path)\n",
    "    x = img_to_array(img)/255.\n",
    "    x = x.reshape((1,) + x.shape)\n",
    "\n",
    "def split_dataset(df,partition):\n",
    "    x = []\n",
    "    y = []\n",
    "    for element in tqdm(df.values): \n",
    "        if element[2] == partition:\n",
    "            img = load_reshape_img(img_path + element[0])\n",
    "            x.append(img)\n",
    "            y.append(element[1])\n",
    "    return x,y'''"
   ]
  },
  {
   "cell_type": "code",
   "execution_count": 17,
   "metadata": {
    "colab": {
     "base_uri": "https://localhost:8080/"
    },
    "id": "6FNmk9Mf69pT",
    "outputId": "e2e1e44d-29e9-4d2a-adc6-a7f4d8365c0a"
   },
   "outputs": [
    {
     "data": {
      "text/plain": [
       "0"
      ]
     },
     "execution_count": 17,
     "metadata": {
      "tags": []
     },
     "output_type": "execute_result"
    }
   ],
   "source": [
    "len(list(pathlib.Path(\"datasets/gender/\").glob('*')))"
   ]
  },
  {
   "cell_type": "code",
   "execution_count": 27,
   "metadata": {
    "id": "J6Oi0rJP1Eox"
   },
   "outputs": [],
   "source": [
    "def split_dataset(df,partition,name):\n",
    "    path = \"datasets/gender/\"\n",
    "    if not os.path.exists(path+name):\n",
    "        os.mkdir(path+name)\n",
    "    if not os.path.exists(path+name+\"/Men\"):\n",
    "        os.mkdir(path+name+\"/Men\")\n",
    "    if not os.path.exists(path+name+\"/Women\"):\n",
    "        os.mkdir(path+name+\"/Women\")\n",
    "        \n",
    "    try:\n",
    "      for element in tqdm(df.values): \n",
    "        if element[2] == partition:\n",
    "          if element[1] == 1:\n",
    "            shutil.copy(img_path + element[0],path+name+\"/Men/\"+ element[0])\n",
    "          else:\n",
    "            shutil.copy(img_path + element[0],path+name+\"/Women/\"+ element[0])\n",
    "    except:\n",
    "      print(df)"
   ]
  },
  {
   "cell_type": "code",
   "execution_count": 29,
   "metadata": {
    "colab": {
     "base_uri": "https://localhost:8080/",
     "height": 164,
     "referenced_widgets": [
      "96ab08442ba84aa0acda05a717f73237",
      "e123ad3ad37041d9a290b21cb2ab4a39",
      "3b89b47f26974b38ba28c785299408fe",
      "71d7d4583e6e4471b64c6d2a1e5c7313",
      "b7ec197240d648ffa271b44495469ac5",
      "fce9877bb4e940e8853614d246dfd164",
      "42a4c1f24aac4e799f9e737b8a6405b1",
      "f9d2530d78f9497bb0958139f7088e90",
      "a865c6674e184bf6b61eeffa808e3575",
      "e178295b8bf842f3a4d49d8515a828de",
      "1fa90ab793b94a938b7c852e836d8336",
      "7dcf95cb69154686858b125d7aac3803",
      "da0ef5578ea84678b9d5b285cbf3a075",
      "3d114d4e214549109f11d1fae2404b35",
      "8fa2088b4de64065b583a1436d2393ee",
      "3174bf41375641ebb4806a2fcd9d5216",
      "6cc46ae9e6b442759135d8149e8e4324",
      "7367340c9352444ab68c929961c4f4ef",
      "95f3ef2c9047473c810f203db8dfcfb8",
      "64f89c8ebf4a4ead8f736bc9cee2183f",
      "9de203147b2745a4ae4e36747da109c8",
      "6b7a2659c42f4d7a810ccf09282bd47d",
      "8191225b592e4fecb37b698dccb0e0c5",
      "ea98c1244aed4b5ab2fb80d36611b9df"
     ]
    },
    "id": "P9l3oR9I1Eox",
    "outputId": "8ca880bd-6883-40ce-cc2d-60c9debc9ded"
   },
   "outputs": [
    {
     "data": {
      "application/vnd.jupyter.widget-view+json": {
       "model_id": "96ab08442ba84aa0acda05a717f73237",
       "version_major": 2,
       "version_minor": 0
      },
      "text/plain": [
       "HBox(children=(FloatProgress(value=0.0, max=202599.0), HTML(value='')))"
      ]
     },
     "metadata": {
      "tags": []
     },
     "output_type": "display_data"
    },
    {
     "name": "stdout",
     "output_type": "stream",
     "text": [
      "\n"
     ]
    },
    {
     "data": {
      "application/vnd.jupyter.widget-view+json": {
       "model_id": "a865c6674e184bf6b61eeffa808e3575",
       "version_major": 2,
       "version_minor": 0
      },
      "text/plain": [
       "HBox(children=(FloatProgress(value=0.0, max=202599.0), HTML(value='')))"
      ]
     },
     "metadata": {
      "tags": []
     },
     "output_type": "display_data"
    },
    {
     "name": "stdout",
     "output_type": "stream",
     "text": [
      "\n"
     ]
    },
    {
     "data": {
      "application/vnd.jupyter.widget-view+json": {
       "model_id": "6cc46ae9e6b442759135d8149e8e4324",
       "version_major": 2,
       "version_minor": 0
      },
      "text/plain": [
       "HBox(children=(FloatProgress(value=0.0, max=202599.0), HTML(value='')))"
      ]
     },
     "metadata": {
      "tags": []
     },
     "output_type": "display_data"
    },
    {
     "name": "stdout",
     "output_type": "stream",
     "text": [
      "\n"
     ]
    }
   ],
   "source": [
    "if not os.path.exists(\"datasets/gender\"):\n",
    "    os.mkdir(\"datasets/gender\")\n",
    "split_dataset(df,0,\"training_set\")\n",
    "split_dataset(df,1,\"validation_set\")\n",
    "split_dataset(df,2,\"test_set\")"
   ]
  },
  {
   "cell_type": "markdown",
   "metadata": {
    "id": "g37_StxYDkQ2"
   },
   "source": [
    "## III- Image augmentation"
   ]
  },
  {
   "cell_type": "code",
   "execution_count": 65,
   "metadata": {
    "colab": {
     "base_uri": "https://localhost:8080/"
    },
    "id": "SVw_HOT5DpRn",
    "outputId": "6208a787-dda1-43d9-92d1-03ca6b03930e"
   },
   "outputs": [
    {
     "name": "stdout",
     "output_type": "stream",
     "text": [
      "Found 162770 images belonging to 2 classes.\n",
      "Found 19867 images belonging to 2 classes.\n",
      "Found 19962 images belonging to 2 classes.\n"
     ]
    }
   ],
   "source": [
    "from keras.preprocessing.image import ImageDataGenerator\n",
    "\n",
    "train_datagen = ImageDataGenerator(rescale = 1./255,\n",
    "                                   shear_range = 0.2,\n",
    "                                   zoom_range = 0.2,\n",
    "                                   horizontal_flip = True,\n",
    "                                   vertical_flip = True)\n",
    "\n",
    "test_datagen = ImageDataGenerator(rescale = 1./255)\n",
    "\n",
    "training_set = train_datagen.flow_from_directory('datasets/gender/training_set',\n",
    "                                                 target_size = (178,218),\n",
    "                                                 batch_size = 16)\n",
    "\n",
    "validation_set = test_datagen.flow_from_directory('datasets/gender/validation_set',\n",
    "                                            target_size = (178,218),\n",
    "                                            batch_size = 16)\n",
    "\n",
    "test_set = test_datagen.flow_from_directory('datasets/gender/test_set',\n",
    "                                            target_size = (178,218),\n",
    "                                            batch_size = 16)"
   ]
  },
  {
   "cell_type": "markdown",
   "metadata": {
    "id": "ZUMqs9F71Eoy"
   },
   "source": [
    "## IV- Create the model"
   ]
  },
  {
   "cell_type": "code",
   "execution_count": 61,
   "metadata": {
    "id": "NcCBOZmP1Eoy"
   },
   "outputs": [],
   "source": [
    "#Importation de modules Keras\n",
    "from keras.models import Sequential\n",
    "from keras.layers import Conv2D,MaxPooling2D,Flatten,Dense,Dropout\n",
    "\n",
    "# Initialiser le CNN\n",
    "gender_net = Sequential()\n",
    "\n",
    "# Etape 1: Convolution\n",
    "gender_net.add(Conv2D(filters = 32, kernel_size = 3, input_shape = (178, 218, 3), activation = \"relu\"))\n",
    "gender_net.add(MaxPooling2D()) # Etape 2 - Pooling\n",
    "\n",
    "gender_net.add(Conv2D(64, 3, activation = \"relu\"))\n",
    "gender_net.add(MaxPooling2D(pool_size=(2,2)))\n",
    "\n",
    "gender_net.add(Conv2D(64, 3, activation = \"relu\"))\n",
    "gender_net.add(MaxPooling2D(pool_size=(2,2)))\n",
    "gender_net.add(Dropout(rate = 0.5))\n",
    "\n",
    "gender_net.add(Conv2D(128, 3, activation = \"relu\"))\n",
    "gender_net.add(MaxPooling2D(pool_size=(2,2)))\n",
    "gender_net.add(Dropout(rate = 0.5))\n",
    "\n",
    "gender_net.add(Conv2D(128, 3, activation = \"relu\"))\n",
    "gender_net.add(MaxPooling2D(pool_size=(2,2)))\n",
    "gender_net.add(Dropout(rate = 0.5))\n",
    "\n",
    "# Etape 3 - Flattening\n",
    "gender_net.add(Flatten())\n",
    "\n",
    "# Etape 4 - Couche complétement connectée\n",
    "gender_net.add(Dense(units = 64, activation = 'relu'))\n",
    "gender_net.add(Dense(2, activation=\"softmax\"))"
   ]
  },
  {
   "cell_type": "code",
   "execution_count": 62,
   "metadata": {
    "colab": {
     "base_uri": "https://localhost:8080/"
    },
    "id": "oH2khmxd1Eoz",
    "outputId": "3da7309d-4239-4082-a5b4-da8f2f901ae8"
   },
   "outputs": [
    {
     "name": "stdout",
     "output_type": "stream",
     "text": [
      "Model: \"sequential_4\"\n",
      "_________________________________________________________________\n",
      "Layer (type)                 Output Shape              Param #   \n",
      "=================================================================\n",
      "conv2d_12 (Conv2D)           (None, 176, 216, 32)      896       \n",
      "_________________________________________________________________\n",
      "max_pooling2d_12 (MaxPooling (None, 88, 108, 32)       0         \n",
      "_________________________________________________________________\n",
      "conv2d_13 (Conv2D)           (None, 86, 106, 64)       18496     \n",
      "_________________________________________________________________\n",
      "max_pooling2d_13 (MaxPooling (None, 43, 53, 64)        0         \n",
      "_________________________________________________________________\n",
      "dropout_3 (Dropout)          (None, 43, 53, 64)        0         \n",
      "_________________________________________________________________\n",
      "conv2d_14 (Conv2D)           (None, 41, 51, 64)        36928     \n",
      "_________________________________________________________________\n",
      "max_pooling2d_14 (MaxPooling (None, 20, 25, 64)        0         \n",
      "_________________________________________________________________\n",
      "dropout_4 (Dropout)          (None, 20, 25, 64)        0         \n",
      "_________________________________________________________________\n",
      "conv2d_15 (Conv2D)           (None, 18, 23, 64)        36928     \n",
      "_________________________________________________________________\n",
      "max_pooling2d_15 (MaxPooling (None, 9, 11, 64)         0         \n",
      "_________________________________________________________________\n",
      "dropout_5 (Dropout)          (None, 9, 11, 64)         0         \n",
      "_________________________________________________________________\n",
      "flatten_3 (Flatten)          (None, 6336)              0         \n",
      "_________________________________________________________________\n",
      "dense_6 (Dense)              (None, 64)                405568    \n",
      "_________________________________________________________________\n",
      "dense_7 (Dense)              (None, 2)                 130       \n",
      "=================================================================\n",
      "Total params: 498,946\n",
      "Trainable params: 498,946\n",
      "Non-trainable params: 0\n",
      "_________________________________________________________________\n"
     ]
    }
   ],
   "source": [
    "gender_net.summary()"
   ]
  },
  {
   "cell_type": "code",
   "execution_count": 67,
   "metadata": {
    "id": "C6TbU_bo1Eoz"
   },
   "outputs": [],
   "source": [
    "gender_net.compile(optimizer = 'adam', loss = 'binary_crossentropy', metrics = ['accuracy'])\n",
    "#gender_net.compile(optimizer = 'adam', loss = 'sparse_categorical_crossentropy', metrics = ['accuracy'])"
   ]
  },
  {
   "cell_type": "code",
   "execution_count": 68,
   "metadata": {
    "id": "4ShSUIIQKvM6"
   },
   "outputs": [],
   "source": [
    "from keras.callbacks import ModelCheckpoint\n",
    "checkpointer = ModelCheckpoint(filepath='gender_net.h5', \n",
    "                               verbose=1, \n",
    "                               save_best_only=True)"
   ]
  },
  {
   "cell_type": "code",
   "execution_count": null,
   "metadata": {
    "id": "Enh5h0TAIrFh"
   },
   "outputs": [],
   "source": [
    "'''gender_net.compile(\n",
    "    loss=\"sparse_categorical_crossentropy\",\n",
    "    optimizer=\"sgd\",\n",
    "    metrics=[\"accuracy\"]\n",
    ")'''"
   ]
  },
  {
   "cell_type": "markdown",
   "metadata": {
    "id": "y7vWyd2lDxrb"
   },
   "source": [
    "## V- Fit the model"
   ]
  },
  {
   "cell_type": "code",
   "execution_count": 70,
   "metadata": {
    "colab": {
     "base_uri": "https://localhost:8080/"
    },
    "id": "pkINW1cbHn6i",
    "outputId": "56965166-907d-4729-d79e-aeb035edcf0c"
   },
   "outputs": [
    {
     "name": "stderr",
     "output_type": "stream",
     "text": [
      "/usr/local/lib/python3.6/dist-packages/tensorflow/python/keras/engine/training.py:1844: UserWarning: `Model.fit_generator` is deprecated and will be removed in a future version. Please use `Model.fit`, which supports generators.\n",
      "  warnings.warn('`Model.fit_generator` is deprecated and '\n"
     ]
    },
    {
     "name": "stdout",
     "output_type": "stream",
     "text": [
      "Epoch 1/25\n",
      "250/250 [==============================] - 587s 2s/step - loss: 0.6778 - accuracy: 0.5740 - val_loss: 0.6653 - val_accuracy: 0.6045\n",
      "Epoch 2/25\n",
      "250/250 [==============================] - 581s 2s/step - loss: 0.6179 - accuracy: 0.6597 - val_loss: 0.6495 - val_accuracy: 0.7055\n",
      "Epoch 3/25\n",
      "250/250 [==============================] - 573s 2s/step - loss: 0.5859 - accuracy: 0.7085 - val_loss: 0.5400 - val_accuracy: 0.7495\n",
      "Epoch 4/25\n",
      "250/250 [==============================] - 575s 2s/step - loss: 0.5421 - accuracy: 0.7340 - val_loss: 0.5160 - val_accuracy: 0.7831\n",
      "Epoch 5/25\n",
      "250/250 [==============================] - 569s 2s/step - loss: 0.4795 - accuracy: 0.7795 - val_loss: 0.4164 - val_accuracy: 0.8256\n",
      "Epoch 6/25\n",
      "250/250 [==============================] - 572s 2s/step - loss: 0.4421 - accuracy: 0.7960 - val_loss: 0.3575 - val_accuracy: 0.8581\n",
      "Epoch 7/25\n",
      "250/250 [==============================] - 572s 2s/step - loss: 0.4043 - accuracy: 0.8102 - val_loss: 0.3339 - val_accuracy: 0.8713\n",
      "Epoch 8/25\n",
      "250/250 [==============================] - 571s 2s/step - loss: 0.3909 - accuracy: 0.8225 - val_loss: 0.3119 - val_accuracy: 0.8872\n",
      "Epoch 9/25\n",
      "250/250 [==============================] - 570s 2s/step - loss: 0.3578 - accuracy: 0.8478 - val_loss: 0.2711 - val_accuracy: 0.9042\n",
      "Epoch 10/25\n",
      "250/250 [==============================] - 570s 2s/step - loss: 0.3346 - accuracy: 0.8500 - val_loss: 0.2517 - val_accuracy: 0.9059\n",
      "Epoch 11/25\n",
      "250/250 [==============================] - 581s 2s/step - loss: 0.3296 - accuracy: 0.8570 - val_loss: 0.2524 - val_accuracy: 0.9104\n",
      "Epoch 12/25\n",
      "250/250 [==============================] - 573s 2s/step - loss: 0.3271 - accuracy: 0.8618 - val_loss: 0.2361 - val_accuracy: 0.9110\n",
      "Epoch 13/25\n",
      "250/250 [==============================] - 585s 2s/step - loss: 0.3058 - accuracy: 0.8717 - val_loss: 0.2461 - val_accuracy: 0.9172\n",
      "Epoch 14/25\n",
      "250/250 [==============================] - 599s 2s/step - loss: 0.3113 - accuracy: 0.8677 - val_loss: 0.2263 - val_accuracy: 0.9176\n",
      "Epoch 15/25\n",
      "250/250 [==============================] - 602s 2s/step - loss: 0.2987 - accuracy: 0.8748 - val_loss: 0.2272 - val_accuracy: 0.9192\n",
      "Epoch 16/25\n",
      "250/250 [==============================] - 606s 2s/step - loss: 0.2943 - accuracy: 0.8760 - val_loss: 0.2180 - val_accuracy: 0.9267\n",
      "Epoch 17/25\n",
      "250/250 [==============================] - 602s 2s/step - loss: 0.2946 - accuracy: 0.8735 - val_loss: 0.2067 - val_accuracy: 0.9297\n",
      "Epoch 18/25\n",
      "250/250 [==============================] - 604s 2s/step - loss: 0.2785 - accuracy: 0.8848 - val_loss: 0.2141 - val_accuracy: 0.9168\n",
      "Epoch 19/25\n",
      "250/250 [==============================] - 606s 2s/step - loss: 0.2933 - accuracy: 0.8760 - val_loss: 0.2123 - val_accuracy: 0.9281\n",
      "Epoch 20/25\n",
      "250/250 [==============================] - 605s 2s/step - loss: 0.2721 - accuracy: 0.8870 - val_loss: 0.2244 - val_accuracy: 0.9238\n",
      "Epoch 21/25\n",
      "250/250 [==============================] - 603s 2s/step - loss: 0.2696 - accuracy: 0.8850 - val_loss: 0.1856 - val_accuracy: 0.9293\n",
      "Epoch 22/25\n",
      "250/250 [==============================] - 602s 2s/step - loss: 0.2716 - accuracy: 0.8873 - val_loss: 0.2001 - val_accuracy: 0.9336\n",
      "Epoch 23/25\n",
      "250/250 [==============================] - 605s 2s/step - loss: 0.2664 - accuracy: 0.8832 - val_loss: 0.2028 - val_accuracy: 0.9280\n",
      "Epoch 24/25\n",
      "250/250 [==============================] - 604s 2s/step - loss: 0.2780 - accuracy: 0.8817 - val_loss: 0.1961 - val_accuracy: 0.9357\n",
      "Epoch 25/25\n",
      "250/250 [==============================] - 606s 2s/step - loss: 0.2574 - accuracy: 0.8932 - val_loss: 0.1803 - val_accuracy: 0.9374\n"
     ]
    }
   ],
   "source": [
    "hist = gender_net.fit(training_set,\n",
    "                         steps_per_epoch = 250,\n",
    "                         epochs = 25,\n",
    "                         validation_data = validation_set)#,\n",
    "                         #validation_steps = 63)"
   ]
  },
  {
   "cell_type": "code",
   "execution_count": null,
   "metadata": {
    "id": "dVYUd1gp1Eoz"
   },
   "outputs": [],
   "source": [
    "#hist = model.fit(images_train, targets_train, epochs=50, validation_split=0.2)"
   ]
  },
  {
   "cell_type": "code",
   "execution_count": 71,
   "metadata": {
    "colab": {
     "base_uri": "https://localhost:8080/",
     "height": 275
    },
    "id": "yavF5vRi1Eo0",
    "outputId": "eb2e710b-7704-49a1-987b-69b6108c8592"
   },
   "outputs": [
    {
     "data": {
      "image/png": "[encoded data removed]",
      "text/plain": [
       "<Figure size 1296x288 with 1 Axes>"
      ]
     },
     "metadata": {
      "needs_background": "light",
      "tags": []
     },
     "output_type": "display_data"
    }
   ],
   "source": [
    "# Plot loss function value through epochs\n",
    "plt.figure(figsize=(18, 4))\n",
    "plt.plot(hist.history['loss'], label = 'train')\n",
    "plt.plot(hist.history['val_loss'], label = 'valid')\n",
    "plt.legend()\n",
    "plt.title('Loss Function')\n",
    "plt.show()"
   ]
  },
  {
   "cell_type": "code",
   "execution_count": 73,
   "metadata": {
    "colab": {
     "base_uri": "https://localhost:8080/",
     "height": 273
    },
    "id": "sePdBixC1Eo0",
    "outputId": "55208fa0-8e79-493b-df15-f135878e7f5b"
   },
   "outputs": [
    {
     "data": {
      "image/png": "[encoded data removed]",
      "text/plain": [
       "<Figure size 1296x288 with 1 Axes>"
      ]
     },
     "metadata": {
      "needs_background": "light",
      "tags": []
     },
     "output_type": "display_data"
    }
   ],
   "source": [
    "# Plot accuracy through epochs\n",
    "plt.figure(figsize=(18, 4))\n",
    "plt.plot(hist.history['accuracy'], label = 'train')\n",
    "plt.plot(hist.history['val_accuracy'], label = 'valid')\n",
    "plt.legend()\n",
    "plt.title('Accuracy')\n",
    "plt.show()"
   ]
  },
  {
   "cell_type": "code",
   "execution_count": 74,
   "metadata": {
    "id": "VPKy83dO1Eo0"
   },
   "outputs": [],
   "source": [
    "if not os.path.exists(\"Models\"):\n",
    "    os.mkdir(\"Models\")\n",
    "gender_net.save(\"Models/gender_net.h5\")"
   ]
  },
  {
   "cell_type": "markdown",
   "metadata": {
    "id": "eFiQi0Ha1Eo0"
   },
   "source": [
    "## VI- Use the model"
   ]
  },
  {
   "cell_type": "code",
   "execution_count": 76,
   "metadata": {
    "id": "nFA8zTNQ1Eo1"
   },
   "outputs": [],
   "source": [
    "loaded_model = k.models.load_model(\"Models/gender_net.h5\")"
   ]
  },
  {
   "cell_type": "code",
   "execution_count": 95,
   "metadata": {
    "colab": {
     "base_uri": "https://localhost:8080/"
    },
    "id": "1_al773HKuv3",
    "outputId": "7eb0d2e6-549f-4eb2-f4d6-5815457c236d"
   },
   "outputs": [
    {
     "name": "stdout",
     "output_type": "stream",
     "text": [
      "1248/1248 [==============================] - 344s 275ms/step - loss: 0.1924 - accuracy: 0.9308\n",
      "loss :  0.19239602982997894 \n",
      " accuracy :  0.9308185577392578\n"
     ]
    }
   ],
   "source": [
    "result = loaded_model.evaluate(test_set)"
   ]
  },
  {
   "cell_type": "code",
   "execution_count": 97,
   "metadata": {
    "colab": {
     "base_uri": "https://localhost:8080/"
    },
    "id": "3bWBQlobNWfR",
    "outputId": "383f4a00-63a1-4f09-b501-dac21a229930"
   },
   "outputs": [
    {
     "name": "stdout",
     "output_type": "stream",
     "text": [
      "loss: 0.1924\n",
      "accuracy: 93.08%\n"
     ]
    }
   ],
   "source": [
    "print(loaded_model.metrics_names[0], \": \", round(result[0],4),\"\\n\", \n",
    "      loaded_model.metrics_names[1], \": \", round(result[1]*100,2),\" %\", sep=\"\")"
   ]
  },
  {
   "cell_type": "code",
   "execution_count": null,
   "metadata": {
    "id": "1_1wc6ymH_nP"
   },
   "outputs": [],
   "source": [
    "def load_reshape_img(path):\n",
    "    img = load_img(path)\n",
    "    x = img_to_array(img)/255.\n",
    "    x = x.reshape((1,) + x.shape)\n",
    "\n",
    "def load__img(df):\n",
    "    x = []\n",
    "    y = []\n",
    "    for element in tqdm(df.values): \n",
    "        if element[2] == partition:\n",
    "            img = load_img(img_path + element[0])\n",
    "            x.append(img)\n",
    "            y.append(element[1])\n",
    "    return x,y"
   ]
  },
  {
   "cell_type": "code",
   "execution_count": null,
   "metadata": {
    "id": "gZVQenWJ1Eo1"
   },
   "outputs": [],
   "source": [
    "prediction = loaded_model.predict(image)\n",
    "print(prediction)\n",
    "if prediction == 0:\n",
    "  print(\"Femme\")\n",
    "else:\n",
    "  print(\"Homme\")"
   ]
  }
 ],
 "metadata": {
  "colab": {
   "collapsed_sections": [],
   "name": "Gender_detection.ipynb",
   "provenance": [],
   "toc_visible": true
  },
  "kernelspec": {
   "display_name": "Python 3",
   "language": "python",
   "name": "python3"
  },
  "language_info": {
   "codemirror_mode": {
    "name": "ipython",
    "version": 3
   },
   "file_extension": ".py",
   "mimetype": "text/x-python",
   "name": "python",
   "nbconvert_exporter": "python",
   "pygments_lexer": "ipython3",
   "version": "3.8.5"
  },
  "widgets": {
   "application/vnd.jupyter.widget-state+json": {
    "1fa90ab793b94a938b7c852e836d8336": {
     "model_module": "@jupyter-widgets/controls",
     "model_name": "FloatProgressModel",
     "state": {
      "_dom_classes": [],
      "_model_module": "@jupyter-widgets/controls",
      "_model_module_version": "1.5.0",
      "_model_name": "FloatProgressModel",
      "_view_count": null,
      "_view_module": "@jupyter-widgets/controls",
      "_view_module_version": "1.5.0",
      "_view_name": "ProgressView",
      "bar_style": "success",
      "description": "100%",
      "description_tooltip": null,
      "layout": "IPY_MODEL_3d114d4e214549109f11d1fae2404b35",
      "max": 202599,
      "min": 0,
      "orientation": "horizontal",
      "style": "IPY_MODEL_da0ef5578ea84678b9d5b285cbf3a075",
      "value": 202599
     }
    },
    "3174bf41375641ebb4806a2fcd9d5216": {
     "model_module": "@jupyter-widgets/base",
     "model_name": "LayoutModel",
     "state": {
      "_model_module": "@jupyter-widgets/base",
      "_model_module_version": "1.2.0",
      "_model_name": "LayoutModel",
      "_view_count": null,
      "_view_module": "@jupyter-widgets/base",
      "_view_module_version": "1.2.0",
      "_view_name": "LayoutView",
      "align_content": null,
      "align_items": null,
      "align_self": null,
      "border": null,
      "bottom": null,
      "display": null,
      "flex": null,
      "flex_flow": null,
      "grid_area": null,
      "grid_auto_columns": null,
      "grid_auto_flow": null,
      "grid_auto_rows": null,
      "grid_column": null,
      "grid_gap": null,
      "grid_row": null,
      "grid_template_areas": null,
      "grid_template_columns": null,
      "grid_template_rows": null,
      "height": null,
      "justify_content": null,
      "justify_items": null,
      "left": null,
      "margin": null,
      "max_height": null,
      "max_width": null,
      "min_height": null,
      "min_width": null,
      "object_fit": null,
      "object_position": null,
      "order": null,
      "overflow": null,
      "overflow_x": null,
      "overflow_y": null,
      "padding": null,
      "right": null,
      "top": null,
      "visibility": null,
      "width": null
     }
    },
    "3b89b47f26974b38ba28c785299408fe": {
     "model_module": "@jupyter-widgets/controls",
     "model_name": "FloatProgressModel",
     "state": {
      "_dom_classes": [],
      "_model_module": "@jupyter-widgets/controls",
      "_model_module_version": "1.5.0",
      "_model_name": "FloatProgressModel",
      "_view_count": null,
      "_view_module": "@jupyter-widgets/controls",
      "_view_module_version": "1.5.0",
      "_view_name": "ProgressView",
      "bar_style": "success",
      "description": "100%",
      "description_tooltip": null,
      "layout": "IPY_MODEL_fce9877bb4e940e8853614d246dfd164",
      "max": 202599,
      "min": 0,
      "orientation": "horizontal",
      "style": "IPY_MODEL_b7ec197240d648ffa271b44495469ac5",
      "value": 202599
     }
    },
    "3d114d4e214549109f11d1fae2404b35": {
     "model_module": "@jupyter-widgets/base",
     "model_name": "LayoutModel",
     "state": {
      "_model_module": "@jupyter-widgets/base",
      "_model_module_version": "1.2.0",
      "_model_name": "LayoutModel",
      "_view_count": null,
      "_view_module": "@jupyter-widgets/base",
      "_view_module_version": "1.2.0",
      "_view_name": "LayoutView",
      "align_content": null,
      "align_items": null,
      "align_self": null,
      "border": null,
      "bottom": null,
      "display": null,
      "flex": null,
      "flex_flow": null,
      "grid_area": null,
      "grid_auto_columns": null,
      "grid_auto_flow": null,
      "grid_auto_rows": null,
      "grid_column": null,
      "grid_gap": null,
      "grid_row": null,
      "grid_template_areas": null,
      "grid_template_columns": null,
      "grid_template_rows": null,
      "height": null,
      "justify_content": null,
      "justify_items": null,
      "left": null,
      "margin": null,
      "max_height": null,
      "max_width": null,
      "min_height": null,
      "min_width": null,
      "object_fit": null,
      "object_position": null,
      "order": null,
      "overflow": null,
      "overflow_x": null,
      "overflow_y": null,
      "padding": null,
      "right": null,
      "top": null,
      "visibility": null,
      "width": null
     }
    },
    "42a4c1f24aac4e799f9e737b8a6405b1": {
     "model_module": "@jupyter-widgets/controls",
     "model_name": "DescriptionStyleModel",
     "state": {
      "_model_module": "@jupyter-widgets/controls",
      "_model_module_version": "1.5.0",
      "_model_name": "DescriptionStyleModel",
      "_view_count": null,
      "_view_module": "@jupyter-widgets/base",
      "_view_module_version": "1.2.0",
      "_view_name": "StyleView",
      "description_width": ""
     }
    },
    "64f89c8ebf4a4ead8f736bc9cee2183f": {
     "model_module": "@jupyter-widgets/controls",
     "model_name": "HTMLModel",
     "state": {
      "_dom_classes": [],
      "_model_module": "@jupyter-widgets/controls",
      "_model_module_version": "1.5.0",
      "_model_name": "HTMLModel",
      "_view_count": null,
      "_view_module": "@jupyter-widgets/controls",
      "_view_module_version": "1.5.0",
      "_view_name": "HTMLView",
      "description": "",
      "description_tooltip": null,
      "layout": "IPY_MODEL_ea98c1244aed4b5ab2fb80d36611b9df",
      "placeholder": "​",
      "style": "IPY_MODEL_8191225b592e4fecb37b698dccb0e0c5",
      "value": " 202599/202599 [00:03&lt;00:00, 66593.19it/s]"
     }
    },
    "6b7a2659c42f4d7a810ccf09282bd47d": {
     "model_module": "@jupyter-widgets/base",
     "model_name": "LayoutModel",
     "state": {
      "_model_module": "@jupyter-widgets/base",
      "_model_module_version": "1.2.0",
      "_model_name": "LayoutModel",
      "_view_count": null,
      "_view_module": "@jupyter-widgets/base",
      "_view_module_version": "1.2.0",
      "_view_name": "LayoutView",
      "align_content": null,
      "align_items": null,
      "align_self": null,
      "border": null,
      "bottom": null,
      "display": null,
      "flex": null,
      "flex_flow": null,
      "grid_area": null,
      "grid_auto_columns": null,
      "grid_auto_flow": null,
      "grid_auto_rows": null,
      "grid_column": null,
      "grid_gap": null,
      "grid_row": null,
      "grid_template_areas": null,
      "grid_template_columns": null,
      "grid_template_rows": null,
      "height": null,
      "justify_content": null,
      "justify_items": null,
      "left": null,
      "margin": null,
      "max_height": null,
      "max_width": null,
      "min_height": null,
      "min_width": null,
      "object_fit": null,
      "object_position": null,
      "order": null,
      "overflow": null,
      "overflow_x": null,
      "overflow_y": null,
      "padding": null,
      "right": null,
      "top": null,
      "visibility": null,
      "width": null
     }
    },
    "6cc46ae9e6b442759135d8149e8e4324": {
     "model_module": "@jupyter-widgets/controls",
     "model_name": "HBoxModel",
     "state": {
      "_dom_classes": [],
      "_model_module": "@jupyter-widgets/controls",
      "_model_module_version": "1.5.0",
      "_model_name": "HBoxModel",
      "_view_count": null,
      "_view_module": "@jupyter-widgets/controls",
      "_view_module_version": "1.5.0",
      "_view_name": "HBoxView",
      "box_style": "",
      "children": [
       "IPY_MODEL_95f3ef2c9047473c810f203db8dfcfb8",
       "IPY_MODEL_64f89c8ebf4a4ead8f736bc9cee2183f"
      ],
      "layout": "IPY_MODEL_7367340c9352444ab68c929961c4f4ef"
     }
    },
    "71d7d4583e6e4471b64c6d2a1e5c7313": {
     "model_module": "@jupyter-widgets/controls",
     "model_name": "HTMLModel",
     "state": {
      "_dom_classes": [],
      "_model_module": "@jupyter-widgets/controls",
      "_model_module_version": "1.5.0",
      "_model_name": "HTMLModel",
      "_view_count": null,
      "_view_module": "@jupyter-widgets/controls",
      "_view_module_version": "1.5.0",
      "_view_name": "HTMLView",
      "description": "",
      "description_tooltip": null,
      "layout": "IPY_MODEL_f9d2530d78f9497bb0958139f7088e90",
      "placeholder": "​",
      "style": "IPY_MODEL_42a4c1f24aac4e799f9e737b8a6405b1",
      "value": " 202599/202599 [00:54&lt;00:00, 3732.56it/s]"
     }
    },
    "7367340c9352444ab68c929961c4f4ef": {
     "model_module": "@jupyter-widgets/base",
     "model_name": "LayoutModel",
     "state": {
      "_model_module": "@jupyter-widgets/base",
      "_model_module_version": "1.2.0",
      "_model_name": "LayoutModel",
      "_view_count": null,
      "_view_module": "@jupyter-widgets/base",
      "_view_module_version": "1.2.0",
      "_view_name": "LayoutView",
      "align_content": null,
      "align_items": null,
      "align_self": null,
      "border": null,
      "bottom": null,
      "display": null,
      "flex": null,
      "flex_flow": null,
      "grid_area": null,
      "grid_auto_columns": null,
      "grid_auto_flow": null,
      "grid_auto_rows": null,
      "grid_column": null,
      "grid_gap": null,
      "grid_row": null,
      "grid_template_areas": null,
      "grid_template_columns": null,
      "grid_template_rows": null,
      "height": null,
      "justify_content": null,
      "justify_items": null,
      "left": null,
      "margin": null,
      "max_height": null,
      "max_width": null,
      "min_height": null,
      "min_width": null,
      "object_fit": null,
      "object_position": null,
      "order": null,
      "overflow": null,
      "overflow_x": null,
      "overflow_y": null,
      "padding": null,
      "right": null,
      "top": null,
      "visibility": null,
      "width": null
     }
    },
    "7dcf95cb69154686858b125d7aac3803": {
     "model_module": "@jupyter-widgets/controls",
     "model_name": "HTMLModel",
     "state": {
      "_dom_classes": [],
      "_model_module": "@jupyter-widgets/controls",
      "_model_module_version": "1.5.0",
      "_model_name": "HTMLModel",
      "_view_count": null,
      "_view_module": "@jupyter-widgets/controls",
      "_view_module_version": "1.5.0",
      "_view_name": "HTMLView",
      "description": "",
      "description_tooltip": null,
      "layout": "IPY_MODEL_3174bf41375641ebb4806a2fcd9d5216",
      "placeholder": "​",
      "style": "IPY_MODEL_8fa2088b4de64065b583a1436d2393ee",
      "value": " 202599/202599 [00:08&lt;00:00, 23660.77it/s]"
     }
    },
    "8191225b592e4fecb37b698dccb0e0c5": {
     "model_module": "@jupyter-widgets/controls",
     "model_name": "DescriptionStyleModel",
     "state": {
      "_model_module": "@jupyter-widgets/controls",
      "_model_module_version": "1.5.0",
      "_model_name": "DescriptionStyleModel",
      "_view_count": null,
      "_view_module": "@jupyter-widgets/base",
      "_view_module_version": "1.2.0",
      "_view_name": "StyleView",
      "description_width": ""
     }
    },
    "8fa2088b4de64065b583a1436d2393ee": {
     "model_module": "@jupyter-widgets/controls",
     "model_name": "DescriptionStyleModel",
     "state": {
      "_model_module": "@jupyter-widgets/controls",
      "_model_module_version": "1.5.0",
      "_model_name": "DescriptionStyleModel",
      "_view_count": null,
      "_view_module": "@jupyter-widgets/base",
      "_view_module_version": "1.2.0",
      "_view_name": "StyleView",
      "description_width": ""
     }
    },
    "95f3ef2c9047473c810f203db8dfcfb8": {
     "model_module": "@jupyter-widgets/controls",
     "model_name": "FloatProgressModel",
     "state": {
      "_dom_classes": [],
      "_model_module": "@jupyter-widgets/controls",
      "_model_module_version": "1.5.0",
      "_model_name": "FloatProgressModel",
      "_view_count": null,
      "_view_module": "@jupyter-widgets/controls",
      "_view_module_version": "1.5.0",
      "_view_name": "ProgressView",
      "bar_style": "success",
      "description": "100%",
      "description_tooltip": null,
      "layout": "IPY_MODEL_6b7a2659c42f4d7a810ccf09282bd47d",
      "max": 202599,
      "min": 0,
      "orientation": "horizontal",
      "style": "IPY_MODEL_9de203147b2745a4ae4e36747da109c8",
      "value": 202599
     }
    },
    "96ab08442ba84aa0acda05a717f73237": {
     "model_module": "@jupyter-widgets/controls",
     "model_name": "HBoxModel",
     "state": {
      "_dom_classes": [],
      "_model_module": "@jupyter-widgets/controls",
      "_model_module_version": "1.5.0",
      "_model_name": "HBoxModel",
      "_view_count": null,
      "_view_module": "@jupyter-widgets/controls",
      "_view_module_version": "1.5.0",
      "_view_name": "HBoxView",
      "box_style": "",
      "children": [
       "IPY_MODEL_3b89b47f26974b38ba28c785299408fe",
       "IPY_MODEL_71d7d4583e6e4471b64c6d2a1e5c7313"
      ],
      "layout": "IPY_MODEL_e123ad3ad37041d9a290b21cb2ab4a39"
     }
    },
    "9de203147b2745a4ae4e36747da109c8": {
     "model_module": "@jupyter-widgets/controls",
     "model_name": "ProgressStyleModel",
     "state": {
      "_model_module": "@jupyter-widgets/controls",
      "_model_module_version": "1.5.0",
      "_model_name": "ProgressStyleModel",
      "_view_count": null,
      "_view_module": "@jupyter-widgets/base",
      "_view_module_version": "1.2.0",
      "_view_name": "StyleView",
      "bar_color": null,
      "description_width": "initial"
     }
    },
    "a865c6674e184bf6b61eeffa808e3575": {
     "model_module": "@jupyter-widgets/controls",
     "model_name": "HBoxModel",
     "state": {
      "_dom_classes": [],
      "_model_module": "@jupyter-widgets/controls",
      "_model_module_version": "1.5.0",
      "_model_name": "HBoxModel",
      "_view_count": null,
      "_view_module": "@jupyter-widgets/controls",
      "_view_module_version": "1.5.0",
      "_view_name": "HBoxView",
      "box_style": "",
      "children": [
       "IPY_MODEL_1fa90ab793b94a938b7c852e836d8336",
       "IPY_MODEL_7dcf95cb69154686858b125d7aac3803"
      ],
      "layout": "IPY_MODEL_e178295b8bf842f3a4d49d8515a828de"
     }
    },
    "b7ec197240d648ffa271b44495469ac5": {
     "model_module": "@jupyter-widgets/controls",
     "model_name": "ProgressStyleModel",
     "state": {
      "_model_module": "@jupyter-widgets/controls",
      "_model_module_version": "1.5.0",
      "_model_name": "ProgressStyleModel",
      "_view_count": null,
      "_view_module": "@jupyter-widgets/base",
      "_view_module_version": "1.2.0",
      "_view_name": "StyleView",
      "bar_color": null,
      "description_width": "initial"
     }
    },
    "da0ef5578ea84678b9d5b285cbf3a075": {
     "model_module": "@jupyter-widgets/controls",
     "model_name": "ProgressStyleModel",
     "state": {
      "_model_module": "@jupyter-widgets/controls",
      "_model_module_version": "1.5.0",
      "_model_name": "ProgressStyleModel",
      "_view_count": null,
      "_view_module": "@jupyter-widgets/base",
      "_view_module_version": "1.2.0",
      "_view_name": "StyleView",
      "bar_color": null,
      "description_width": "initial"
     }
    },
    "e123ad3ad37041d9a290b21cb2ab4a39": {
     "model_module": "@jupyter-widgets/base",
     "model_name": "LayoutModel",
     "state": {
      "_model_module": "@jupyter-widgets/base",
      "_model_module_version": "1.2.0",
      "_model_name": "LayoutModel",
      "_view_count": null,
      "_view_module": "@jupyter-widgets/base",
      "_view_module_version": "1.2.0",
      "_view_name": "LayoutView",
      "align_content": null,
      "align_items": null,
      "align_self": null,
      "border": null,
      "bottom": null,
      "display": null,
      "flex": null,
      "flex_flow": null,
      "grid_area": null,
      "grid_auto_columns": null,
      "grid_auto_flow": null,
      "grid_auto_rows": null,
      "grid_column": null,
      "grid_gap": null,
      "grid_row": null,
      "grid_template_areas": null,
      "grid_template_columns": null,
      "grid_template_rows": null,
      "height": null,
      "justify_content": null,
      "justify_items": null,
      "left": null,
      "margin": null,
      "max_height": null,
      "max_width": null,
      "min_height": null,
      "min_width": null,
      "object_fit": null,
      "object_position": null,
      "order": null,
      "overflow": null,
      "overflow_x": null,
      "overflow_y": null,
      "padding": null,
      "right": null,
      "top": null,
      "visibility": null,
      "width": null
     }
    },
    "e178295b8bf842f3a4d49d8515a828de": {
     "model_module": "@jupyter-widgets/base",
     "model_name": "LayoutModel",
     "state": {
      "_model_module": "@jupyter-widgets/base",
      "_model_module_version": "1.2.0",
      "_model_name": "LayoutModel",
      "_view_count": null,
      "_view_module": "@jupyter-widgets/base",
      "_view_module_version": "1.2.0",
      "_view_name": "LayoutView",
      "align_content": null,
      "align_items": null,
      "align_self": null,
      "border": null,
      "bottom": null,
      "display": null,
      "flex": null,
      "flex_flow": null,
      "grid_area": null,
      "grid_auto_columns": null,
      "grid_auto_flow": null,
      "grid_auto_rows": null,
      "grid_column": null,
      "grid_gap": null,
      "grid_row": null,
      "grid_template_areas": null,
      "grid_template_columns": null,
      "grid_template_rows": null,
      "height": null,
      "justify_content": null,
      "justify_items": null,
      "left": null,
      "margin": null,
      "max_height": null,
      "max_width": null,
      "min_height": null,
      "min_width": null,
      "object_fit": null,
      "object_position": null,
      "order": null,
      "overflow": null,
      "overflow_x": null,
      "overflow_y": null,
      "padding": null,
      "right": null,
      "top": null,
      "visibility": null,
      "width": null
     }
    },
    "ea98c1244aed4b5ab2fb80d36611b9df": {
     "model_module": "@jupyter-widgets/base",
     "model_name": "LayoutModel",
     "state": {
      "_model_module": "@jupyter-widgets/base",
      "_model_module_version": "1.2.0",
      "_model_name": "LayoutModel",
      "_view_count": null,
      "_view_module": "@jupyter-widgets/base",
      "_view_module_version": "1.2.0",
      "_view_name": "LayoutView",
      "align_content": null,
      "align_items": null,
      "align_self": null,
      "border": null,
      "bottom": null,
      "display": null,
      "flex": null,
      "flex_flow": null,
      "grid_area": null,
      "grid_auto_columns": null,
      "grid_auto_flow": null,
      "grid_auto_rows": null,
      "grid_column": null,
      "grid_gap": null,
      "grid_row": null,
      "grid_template_areas": null,
      "grid_template_columns": null,
      "grid_template_rows": null,
      "height": null,
      "justify_content": null,
      "justify_items": null,
      "left": null,
      "margin": null,
      "max_height": null,
      "max_width": null,
      "min_height": null,
      "min_width": null,
      "object_fit": null,
      "object_position": null,
      "order": null,
      "overflow": null,
      "overflow_x": null,
      "overflow_y": null,
      "padding": null,
      "right": null,
      "top": null,
      "visibility": null,
      "width": null
     }
    },
    "f9d2530d78f9497bb0958139f7088e90": {
     "model_module": "@jupyter-widgets/base",
     "model_name": "LayoutModel",
     "state": {
      "_model_module": "@jupyter-widgets/base",
      "_model_module_version": "1.2.0",
      "_model_name": "LayoutModel",
      "_view_count": null,
      "_view_module": "@jupyter-widgets/base",
      "_view_module_version": "1.2.0",
      "_view_name": "LayoutView",
      "align_content": null,
      "align_items": null,
      "align_self": null,
      "border": null,
      "bottom": null,
      "display": null,
      "flex": null,
      "flex_flow": null,
      "grid_area": null,
      "grid_auto_columns": null,
      "grid_auto_flow": null,
      "grid_auto_rows": null,
      "grid_column": null,
      "grid_gap": null,
      "grid_row": null,
      "grid_template_areas": null,
      "grid_template_columns": null,
      "grid_template_rows": null,
      "height": null,
      "justify_content": null,
      "justify_items": null,
      "left": null,
      "margin": null,
      "max_height": null,
      "max_width": null,
      "min_height": null,
      "min_width": null,
      "object_fit": null,
      "object_position": null,
      "order": null,
      "overflow": null,
      "overflow_x": null,
      "overflow_y": null,
      "padding": null,
      "right": null,
      "top": null,
      "visibility": null,
      "width": null
     }
    },
    "fce9877bb4e940e8853614d246dfd164": {
     "model_module": "@jupyter-widgets/base",
     "model_name": "LayoutModel",
     "state": {
      "_model_module": "@jupyter-widgets/base",
      "_model_module_version": "1.2.0",
      "_model_name": "LayoutModel",
      "_view_count": null,
      "_view_module": "@jupyter-widgets/base",
      "_view_module_version": "1.2.0",
      "_view_name": "LayoutView",
      "align_content": null,
      "align_items": null,
      "align_self": null,
      "border": null,
      "bottom": null,
      "display": null,
      "flex": null,
      "flex_flow": null,
      "grid_area": null,
      "grid_auto_columns": null,
      "grid_auto_flow": null,
      "grid_auto_rows": null,
      "grid_column": null,
      "grid_gap": null,
      "grid_row": null,
      "grid_template_areas": null,
      "grid_template_columns": null,
      "grid_template_rows": null,
      "height": null,
      "justify_content": null,
      "justify_items": null,
      "left": null,
      "margin": null,
      "max_height": null,
      "max_width": null,
      "min_height": null,
      "min_width": null,
      "object_fit": null,
      "object_position": null,
      "order": null,
      "overflow": null,
      "overflow_x": null,
      "overflow_y": null,
      "padding": null,
      "right": null,
      "top": null,
      "visibility": null,
      "width": null
     }
    }
   }
  }
 },
 "nbformat": 4,
 "nbformat_minor": 1
}
